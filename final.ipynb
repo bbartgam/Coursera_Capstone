{
 "cells": [
  {
   "cell_type": "markdown",
   "metadata": {},
   "source": [
    "### Introduction: Business Problem \n",
    "\n",
    "This project we will determine the **perfect neighborhood for my family’s next apartment**. As I am a biased party the report will be targeted at my partner and dog, and their interest in moving to area’s that are remarkably similar to our current neighborhood. \n",
    "\n",
    "We currently love our community but hate our commute, as such this project will identify several Western Washington neighborhoods that have the same distribution of amenities **and** are closer to our respective workplaces. \n",
    "\n",
    "No one likes a long commute and we have decided that we no longer need to spend hours in the car to support our lifestyle. **With the power of Foursquare, Pandas and Folium** I will create a set of concise images that will guide our apartment hunt!"
   ]
  },
  {
   "cell_type": "markdown",
   "metadata": {},
   "source": [
    "### Data \n",
    "\n",
    "Fist I will need to define the characteristics of my current neighborhood using Foursquare\n",
    "- List of the top 20 activities\n",
    "- Find the average distance between a few key sites (dog parks)\n",
    "- Fit this data to a polynomial model for later comparison\n",
    "- Define a working drive time threshold from our respective worksites\n",
    "\n",
    "Second, I will need to find similar neighborhoods and the Bing.com/maps api to calculate drive time\n",
    "- Foursquare will be leveraged to categorizes all area codes in our search area\n",
    "- Data will be tested against the current neighborhood model  using r^2\n",
    "- I will use the Bing Maps api to calculate drive times of the top 20 zip codes ranked by r^2\n",
    "\n",
    "Lastly, I will display the data in a folium map\n",
    "- Prospective neighborhoods will be grouped using scikit learn K-means\n",
    "- Data will be plotted in a visual format using Folium\n",
    "- Key information will be available as a popup summary\n",
    "\n",
    "This information will empower my partner to identify the perfect place to move."
   ]
  },
  {
   "cell_type": "markdown",
   "metadata": {},
   "source": [
    "### Methodology\n",
    "\n",
    "After the data was in hand, I used a for loop to drop all area’s that did not match our current Model Neighborhood. One method that I abandoned was the use of a r^2 to match potential neighborhoods. The client (my partner) decided that it wasn’t important that we have exactly the same number of coffee shops and parks, rather that we have at least one of several categories.\n",
    "\n",
    "### Results\n",
    "\n",
    "0f 134 neighborhoods within our search area only 25 were similar to our Model Neighborhood. Several results in South Seattle and Bellevue stand out because the travel times to work and school are approximately the same. \n",
    "### Discussion\n",
    "\n",
    "By comparing frequently occurring venues types in the Model Neighborhood with those of Neighborhoods close to our daily destinations I was able to affectively short list the house hunt. Ultimately, we decided to move to Bellevue because of the available housing stock. In the future housing prices can be incorporated into the process.\n",
    "\n",
    "This process can be made into a *next neighborhood recommender* by adding a few additional steps to capture users current home, their daily destinations and their desired travel times.\n"
   ]
  },
  {
   "cell_type": "markdown",
   "metadata": {},
   "source": [
    "### Download the necessary resources"
   ]
  },
  {
   "cell_type": "code",
   "execution_count": 1,
   "metadata": {},
   "outputs": [
    {
     "name": "stdout",
     "output_type": "stream",
     "text": [
      "Collecting package metadata (current_repodata.json): done\n",
      "Solving environment: done\n",
      "\n",
      "# All requested packages already installed.\n",
      "\n",
      "Requirement already satisfied: folium in /home/jupyterlab/conda/envs/python/lib/python3.6/site-packages (0.5.0)\n",
      "Requirement already satisfied: requests in /home/jupyterlab/conda/envs/python/lib/python3.6/site-packages (from folium) (2.24.0)\n",
      "Requirement already satisfied: six in /home/jupyterlab/conda/envs/python/lib/python3.6/site-packages (from folium) (1.15.0)\n",
      "Requirement already satisfied: branca in /home/jupyterlab/conda/envs/python/lib/python3.6/site-packages (from folium) (0.4.1)\n",
      "Requirement already satisfied: jinja2 in /home/jupyterlab/conda/envs/python/lib/python3.6/site-packages (from folium) (2.11.2)\n",
      "Requirement already satisfied: chardet<4,>=3.0.2 in /home/jupyterlab/conda/envs/python/lib/python3.6/site-packages (from requests->folium) (3.0.4)\n",
      "Requirement already satisfied: urllib3!=1.25.0,!=1.25.1,<1.26,>=1.21.1 in /home/jupyterlab/conda/envs/python/lib/python3.6/site-packages (from requests->folium) (1.25.9)\n",
      "Requirement already satisfied: certifi>=2017.4.17 in /home/jupyterlab/conda/envs/python/lib/python3.6/site-packages (from requests->folium) (2020.6.20)\n",
      "Requirement already satisfied: idna<3,>=2.5 in /home/jupyterlab/conda/envs/python/lib/python3.6/site-packages (from requests->folium) (2.10)\n",
      "Requirement already satisfied: MarkupSafe>=0.23 in /home/jupyterlab/conda/envs/python/lib/python3.6/site-packages (from jinja2->folium) (1.1.1)\n"
     ]
    }
   ],
   "source": [
    "import numpy as np \n",
    "import pandas as pd\n",
    "import json \n",
    "!conda install -c conda-forge geopy --yes\n",
    "from geopy.geocoders import Nominatim \n",
    "import geopy.distance\n",
    "\n",
    "import requests \n",
    "import matplotlib.pyplot as plt\n",
    "import matplotlib.cm as cm\n",
    "import matplotlib.colors as colors\n",
    "from sklearn.cluster import KMeans\n",
    "! pip install folium\n",
    "import folium"
   ]
  },
  {
   "cell_type": "code",
   "execution_count": 2,
   "metadata": {},
   "outputs": [
    {
     "name": "stdout",
     "output_type": "stream",
     "text": [
      "The geograpical coordinate of Postal Code 98059 is 47.48994828640541, -122.13755849835039.\n",
      "The geograpical coordinate of WOrk 21218 76th Ave S, Kent, WA 98032 are 47.4101507, -122.2373393.\n",
      "The geograpical coordinate of School 4105 George Washington Lane Northeast, Seattle, WA 98105 are 47.6572707, -122.30970970694753.\n",
      "the ditsance between work and school is 17.40476895692529 miles and we will travel up to 21.755961196156616 total miles.\n"
     ]
    }
   ],
   "source": [
    "#get the the location of our home\n",
    "postalcode = '98059'\n",
    "\n",
    "geolocator = Nominatim(user_agent=\"Wester Wa Exploer2\")\n",
    "location = geolocator.geocode(postalcode)\n",
    "latitude = location.latitude\n",
    "longitude = location.longitude\n",
    "print('The geograpical coordinate of Postal Code {} is {}, {}.'.format(postalcode, latitude, longitude))\n",
    "\n",
    "Work = '21218 76th Ave S, Kent, WA 98032'\n",
    "\n",
    "geolocator = Nominatim(user_agent=\"Wester Wa Exploer\")\n",
    "W_location = geolocator.geocode(Work)\n",
    "W_latitude = W_location.latitude\n",
    "W_longitude = W_location.longitude\n",
    "print('The geograpical coordinate of WOrk {} are {}, {}.'.format(Work, W_latitude, W_longitude))\n",
    "\n",
    "School = '4105 George Washington Lane Northeast, Seattle, WA 98105'\n",
    "\n",
    "geolocator = Nominatim(user_agent=\"Wester Wa Exploer\")\n",
    "S_location = geolocator.geocode(School)\n",
    "S_latitude = S_location.latitude\n",
    "S_longitude = S_location.longitude\n",
    "print('The geograpical coordinate of School {} are {}, {}.'.format(School, S_latitude, S_longitude))\n",
    "\n",
    "#find the distance between work and school\n",
    "\n",
    "W_coords = (W_latitude, W_longitude)\n",
    "S_coords = (S_latitude, S_longitude)\n",
    "\n",
    "dis = geopy.distance.geodesic(W_coords, S_coords).miles\n",
    "settle_distance = dis*1.25\n",
    "\n",
    "print('the ditsance between work and school is {} miles and we will travel up to {} total miles.'.format(dis, settle_distance))"
   ]
  },
  {
   "cell_type": "markdown",
   "metadata": {},
   "source": [
    "### getting the lat longs of all zips in the area"
   ]
  },
  {
   "cell_type": "code",
   "execution_count": 3,
   "metadata": {},
   "outputs": [],
   "source": [
    "path = '/resources/labs/fina/zipss.csv'\n",
    "zips= pd.read_csv(path)"
   ]
  },
  {
   "cell_type": "code",
   "execution_count": 4,
   "metadata": {},
   "outputs": [
    {
     "name": "stdout",
     "output_type": "stream",
     "text": [
      "Lat: 47.31278529997836, Long -122.27204181178253\n"
     ]
    }
   ],
   "source": [
    "local = pd.DataFrame()\n",
    "local['Lat'] = ''\n",
    "local['Long'] = ''\n",
    " \n",
    "### test the system\n",
    "postalcode = zips['Code'].iloc[0]\n",
    "\n",
    "geolocator = Nominatim(user_agent=\"Wester Wa Exploer2\")\n",
    "location = geolocator.geocode(postalcode)\n",
    "latitude = location.latitude\n",
    "longitude = location.longitude\n",
    "print('Lat: {}, Long {}' .format(latitude, longitude))\n"
   ]
  },
  {
   "cell_type": "code",
   "execution_count": 5,
   "metadata": {},
   "outputs": [],
   "source": [
    "for i in range(len(zips)):\n",
    "    geolocator = Nominatim(user_agent=\"Wester Wa Exploer4\", timeout=3)\n",
    "    location = geolocator.geocode(zips['Code'].iloc[i])\n",
    "    if location is not None:\n",
    "        latitude = location.latitude\n",
    "        longitude = location.longitude\n",
    "        local = local.append({'Lat': latitude, 'Long': longitude}, ignore_index=True)\n",
    "    else:\n",
    "        local = local.append({'Lat': 'NAN', 'Long': 'BANANA'}, ignore_index=True)"
   ]
  },
  {
   "cell_type": "code",
   "execution_count": 6,
   "metadata": {},
   "outputs": [
    {
     "name": "stdout",
     "output_type": "stream",
     "text": [
      "(187, 5)\n",
      "(134, 5)\n"
     ]
    }
   ],
   "source": [
    "df_wa = pd.merge(zips, local, left_index = True, right_index = True)\n",
    "print(df_wa.shape)\n",
    "df_wa = df_wa[~df_wa['Lat'].isin(['NAN'])]\n",
    "df_wa = df_wa[~df_wa['Long'].isin(['BANANA'])]\n",
    "df_wa=df_wa.loc[(df_wa['Long'] < 0.0)]\n",
    "df_wa=df_wa.loc[(df_wa['Lat'] < 48.4)]\n",
    "print(df_wa.shape)"
   ]
  },
  {
   "cell_type": "code",
   "execution_count": 7,
   "metadata": {},
   "outputs": [
    {
     "name": "stdout",
     "output_type": "stream",
     "text": [
      "(47.4101507, -122.2373393) (47.6572707, -122.30970970694753) 21.755961196156616\n"
     ]
    }
   ],
   "source": [
    "#### find the distance between my locations\n",
    "\n",
    "distance = pd.DataFrame()\n",
    "distance['d_work']=''\n",
    "distance['d_school']=''\n",
    "distance\n",
    "\n",
    "print(W_coords, S_coords, settle_distance)"
   ]
  },
  {
   "cell_type": "code",
   "execution_count": 8,
   "metadata": {},
   "outputs": [
    {
     "name": "stdout",
     "output_type": "stream",
     "text": [
      "6.9206965329612835\n",
      "23.863793299885717\n"
     ]
    }
   ],
   "source": [
    "T_coords = df_wa[['Lat', 'Long']]\n",
    "print(geopy.distance.geodesic(W_coords, T_coords.iloc[0]).miles)\n",
    "print(geopy.distance.geodesic(S_coords, T_coords.iloc[0]).miles)"
   ]
  },
  {
   "cell_type": "code",
   "execution_count": 9,
   "metadata": {},
   "outputs": [
    {
     "name": "stdout",
     "output_type": "stream",
     "text": [
      "(134, 7)\n"
     ]
    }
   ],
   "source": [
    "for i in range(len(df_wa)):\n",
    "    distance = distance.append({'d_work': geopy.distance.geodesic(W_coords, T_coords.iloc[i]).miles, 'd_school': geopy.distance.geodesic(S_coords, T_coords.iloc[i]).miles}, ignore_index=True)\n",
    "\n",
    "df_wa=pd.merge(df_wa, distance, left_index = True, right_index = True, how = 'left')\n",
    "df_wa = df_wa.reset_index()\n",
    "df_wa = df_wa.drop(['index'], axis = 1)\n",
    "print(df_wa.shape)"
   ]
  },
  {
   "cell_type": "code",
   "execution_count": 10,
   "metadata": {},
   "outputs": [
    {
     "name": "stdout",
     "output_type": "stream",
     "text": [
      "(53, 8)\n"
     ]
    },
    {
     "data": {
      "text/html": [
       "<div>\n",
       "<style scoped>\n",
       "    .dataframe tbody tr th:only-of-type {\n",
       "        vertical-align: middle;\n",
       "    }\n",
       "\n",
       "    .dataframe tbody tr th {\n",
       "        vertical-align: top;\n",
       "    }\n",
       "\n",
       "    .dataframe thead th {\n",
       "        text-align: right;\n",
       "    }\n",
       "</style>\n",
       "<table border=\"1\" class=\"dataframe\">\n",
       "  <thead>\n",
       "    <tr style=\"text-align: right;\">\n",
       "      <th></th>\n",
       "      <th>Code</th>\n",
       "      <th>City</th>\n",
       "      <th>County</th>\n",
       "      <th>Lat</th>\n",
       "      <th>Long</th>\n",
       "      <th>d_work</th>\n",
       "      <th>d_school</th>\n",
       "      <th>ok</th>\n",
       "    </tr>\n",
       "  </thead>\n",
       "  <tbody>\n",
       "    <tr>\n",
       "      <th>0</th>\n",
       "      <td>98004</td>\n",
       "      <td>Bellevue</td>\n",
       "      <td>King</td>\n",
       "      <td>47.6245</td>\n",
       "      <td>-122.201</td>\n",
       "      <td>14.904930</td>\n",
       "      <td>5.564004</td>\n",
       "      <td>True</td>\n",
       "    </tr>\n",
       "    <tr>\n",
       "      <th>1</th>\n",
       "      <td>98005</td>\n",
       "      <td>Bellevue</td>\n",
       "      <td>King</td>\n",
       "      <td>47.6121</td>\n",
       "      <td>-122.164</td>\n",
       "      <td>14.366694</td>\n",
       "      <td>7.468130</td>\n",
       "      <td>True</td>\n",
       "    </tr>\n",
       "    <tr>\n",
       "      <th>2</th>\n",
       "      <td>98006</td>\n",
       "      <td>Bellevue</td>\n",
       "      <td>King</td>\n",
       "      <td>47.563</td>\n",
       "      <td>-122.159</td>\n",
       "      <td>11.180594</td>\n",
       "      <td>9.588843</td>\n",
       "      <td>True</td>\n",
       "    </tr>\n",
       "    <tr>\n",
       "      <th>3</th>\n",
       "      <td>98007</td>\n",
       "      <td>Bellevue</td>\n",
       "      <td>King</td>\n",
       "      <td>47.6098</td>\n",
       "      <td>-122.147</td>\n",
       "      <td>14.433790</td>\n",
       "      <td>8.290301</td>\n",
       "      <td>True</td>\n",
       "    </tr>\n",
       "    <tr>\n",
       "      <th>4</th>\n",
       "      <td>98008</td>\n",
       "      <td>Bellevue</td>\n",
       "      <td>King</td>\n",
       "      <td>47.6344</td>\n",
       "      <td>-122.125</td>\n",
       "      <td>16.358800</td>\n",
       "      <td>8.764045</td>\n",
       "      <td>True</td>\n",
       "    </tr>\n",
       "  </tbody>\n",
       "</table>\n",
       "</div>"
      ],
      "text/plain": [
       "    Code      City County      Lat     Long     d_work  d_school    ok\n",
       "0  98004  Bellevue   King  47.6245 -122.201  14.904930  5.564004  True\n",
       "1  98005  Bellevue   King  47.6121 -122.164  14.366694  7.468130  True\n",
       "2  98006  Bellevue   King   47.563 -122.159  11.180594  9.588843  True\n",
       "3  98007  Bellevue   King  47.6098 -122.147  14.433790  8.290301  True\n",
       "4  98008  Bellevue   King  47.6344 -122.125  16.358800  8.764045  True"
      ]
     },
     "execution_count": 10,
     "metadata": {},
     "output_type": "execute_result"
    }
   ],
   "source": [
    "ok = pd.DataFrame()\n",
    "ok['ok']=''\n",
    "\n",
    "for i in range(len(df_wa)):\n",
    "    ok = ok.append({'ok':df_wa.loc[i]['d_work']<settle_distance and df_wa.loc[i]['d_school']<settle_distance}, ignore_index=True)\n",
    "\n",
    "\n",
    "df_wa=pd.merge(df_wa, ok, left_index = True, right_index = True, how = 'left')\n",
    "\n",
    "\n",
    "potential = df_wa.loc[(df_wa['ok']==True)]\n",
    "potential = potential.reset_index()\n",
    "potential = potential.drop(['index'], axis=1)\n",
    "\n",
    "print(potential.shape)\n",
    "potential.head()"
   ]
  },
  {
   "cell_type": "markdown",
   "metadata": {},
   "source": [
    "### get my Foursquare data for our current home"
   ]
  },
  {
   "cell_type": "code",
   "execution_count": 11,
   "metadata": {},
   "outputs": [
    {
     "name": "stdout",
     "output_type": "stream",
     "text": [
      "Your credentails:\n",
      "CLIENT_ID: FD35ZLLUHS5JQBQBK0FDBZXI2ADUFCR02IOU51JMUXIUHDNL\n",
      "CLIENT_SECRET:5WMJDA1OQP4XS0Q1NT5L0MBD32ELTSL32505WWPTTC53GV5O\n"
     ]
    }
   ],
   "source": [
    "CLIENT_ID = 'FD35ZLLUHS5JQBQBK0FDBZXI2ADUFCR02IOU51JMUXIUHDNL'\n",
    "CLIENT_SECRET = '5WMJDA1OQP4XS0Q1NT5L0MBD32ELTSL32505WWPTTC53GV5O'\n",
    "VERSION = '20200101'\n",
    "LIMIT = 100\n",
    "print('Your credentails:')\n",
    "print('CLIENT_ID: ' + CLIENT_ID)\n",
    "print('CLIENT_SECRET:' + CLIENT_SECRET)"
   ]
  },
  {
   "cell_type": "code",
   "execution_count": 12,
   "metadata": {},
   "outputs": [],
   "source": [
    "url1 = 'https://api.foursquare.com/v2/venues/explore?client_id={}&client_secret={}&ll={},{}&v={}&limit={}'.format(CLIENT_ID, CLIENT_SECRET, latitude, longitude, VERSION, LIMIT)\n",
    "results1 = requests.get(url1).json()\n",
    "\n",
    "# assign relevant part of JSON to venues\n",
    "venues = results1['response']['groups'][0]['items']\n",
    "nearby_venues = pd.json_normalize(venues)\n",
    "\n",
    "# filter columns\n",
    "filtered_columns = ['venue.name', 'venue.categories', 'venue.location.postalCode','venue.location.lat', 'venue.location.lng']\n",
    "dataframe_filtered = nearby_venues.loc[:, filtered_columns]"
   ]
  },
  {
   "cell_type": "code",
   "execution_count": 13,
   "metadata": {},
   "outputs": [],
   "source": [
    "category = pd.DataFrame()\n",
    "category['type']=''\n",
    "\n",
    "for i in range(len(dataframe_filtered)):\n",
    "    data = (dataframe_filtered.iloc[i]['venue.categories'][0]['name'])\n",
    "    category = category.append({'type': data.split()}, ignore_index = True)\n",
    "\n",
    "import matplotlib.pyplot as plt\n",
    "\n",
    "category['type as string']=''\n",
    "\n",
    "\n",
    "test = pd.DataFrame()\n",
    "\n",
    "test['type as string']=''\n",
    "\n",
    "\n",
    "for i in range(len(category)):\n",
    "    data = (category.iloc[i]['type'])\n",
    "    test = test.append({'type as string': str(category.iloc[i]['type'])}, ignore_index=True)\n",
    "  \n",
    "fin = pd.merge(category, test, left_index = True, right_index = True)\n",
    "\n",
    "final = fin.groupby('type as string_y').count()\n",
    "\n",
    "final = final.sort_values(by='type', ascending = False)"
   ]
  },
  {
   "cell_type": "code",
   "execution_count": 14,
   "metadata": {},
   "outputs": [
    {
     "data": {
      "text/html": [
       "<div>\n",
       "<style scoped>\n",
       "    .dataframe tbody tr th:only-of-type {\n",
       "        vertical-align: middle;\n",
       "    }\n",
       "\n",
       "    .dataframe tbody tr th {\n",
       "        vertical-align: top;\n",
       "    }\n",
       "\n",
       "    .dataframe thead th {\n",
       "        text-align: right;\n",
       "    }\n",
       "</style>\n",
       "<table border=\"1\" class=\"dataframe\">\n",
       "  <thead>\n",
       "    <tr style=\"text-align: right;\">\n",
       "      <th>type as string_y</th>\n",
       "      <th>Coffee Shop</th>\n",
       "      <th>Mexican Restaurant</th>\n",
       "      <th>Grocery Store</th>\n",
       "      <th>Brewery</th>\n",
       "      <th>Pet Store</th>\n",
       "      <th>Café</th>\n",
       "      <th>Bakery</th>\n",
       "      <th>Supermarket</th>\n",
       "      <th>Trail</th>\n",
       "      <th>Park</th>\n",
       "      <th>Gastropub</th>\n",
       "    </tr>\n",
       "  </thead>\n",
       "  <tbody>\n",
       "    <tr>\n",
       "      <th>count</th>\n",
       "      <td>12</td>\n",
       "      <td>4</td>\n",
       "      <td>6</td>\n",
       "      <td>5</td>\n",
       "      <td>2</td>\n",
       "      <td>2</td>\n",
       "      <td>2</td>\n",
       "      <td>1</td>\n",
       "      <td>1</td>\n",
       "      <td>1</td>\n",
       "      <td>1</td>\n",
       "    </tr>\n",
       "  </tbody>\n",
       "</table>\n",
       "</div>"
      ],
      "text/plain": [
       "type as string_y  Coffee Shop  Mexican Restaurant  Grocery Store  Brewery  \\\n",
       "count                      12                   4              6        5   \n",
       "\n",
       "type as string_y  Pet Store  Café  Bakery  Supermarket  Trail  Park  Gastropub  \n",
       "count                     2     2       2            1      1     1          1  "
      ]
     },
     "execution_count": 14,
     "metadata": {},
     "output_type": "execute_result"
    }
   ],
   "source": [
    "column=pd.DataFrame()\n",
    "column=final.drop(['type as string_x'], axis = 1)\n",
    "#column=column.reset_index()\n",
    "column=column.transpose()\n",
    "column=column.rename({'type as string_y':'venue type', 'type': 'count'})\n",
    "column.columns = column.columns.str.replace('[', '').str.replace(']', '').str.replace(\"'\", '').str.replace(\",\", '')\n",
    "\n",
    "\n",
    "model = pd.DataFrame()\n",
    "model = column[['Coffee Shop', 'Mexican Restaurant', 'Grocery Store', 'Brewery',\n",
    "      'Pet Store', 'Café', 'Bakery', 'Supermarket', 'Trail', 'Park',\n",
    "      'Gastropub']]\n",
    "model.head()\n"
   ]
  },
  {
   "cell_type": "markdown",
   "metadata": {},
   "source": [
    "### Get data for the relevent area codes"
   ]
  },
  {
   "cell_type": "code",
   "execution_count": 15,
   "metadata": {},
   "outputs": [
    {
     "data": {
      "text/html": [
       "<div>\n",
       "<style scoped>\n",
       "    .dataframe tbody tr th:only-of-type {\n",
       "        vertical-align: middle;\n",
       "    }\n",
       "\n",
       "    .dataframe tbody tr th {\n",
       "        vertical-align: top;\n",
       "    }\n",
       "\n",
       "    .dataframe thead th {\n",
       "        text-align: right;\n",
       "    }\n",
       "</style>\n",
       "<table border=\"1\" class=\"dataframe\">\n",
       "  <thead>\n",
       "    <tr style=\"text-align: right;\">\n",
       "      <th></th>\n",
       "      <th>Code</th>\n",
       "      <th>City</th>\n",
       "      <th>County</th>\n",
       "      <th>Lat</th>\n",
       "      <th>Long</th>\n",
       "      <th>d_work</th>\n",
       "      <th>d_school</th>\n",
       "      <th>ok</th>\n",
       "    </tr>\n",
       "  </thead>\n",
       "  <tbody>\n",
       "    <tr>\n",
       "      <th>0</th>\n",
       "      <td>98004</td>\n",
       "      <td>Bellevue</td>\n",
       "      <td>King</td>\n",
       "      <td>47.6245</td>\n",
       "      <td>-122.201</td>\n",
       "      <td>14.904930</td>\n",
       "      <td>5.564004</td>\n",
       "      <td>True</td>\n",
       "    </tr>\n",
       "    <tr>\n",
       "      <th>1</th>\n",
       "      <td>98005</td>\n",
       "      <td>Bellevue</td>\n",
       "      <td>King</td>\n",
       "      <td>47.6121</td>\n",
       "      <td>-122.164</td>\n",
       "      <td>14.366694</td>\n",
       "      <td>7.468130</td>\n",
       "      <td>True</td>\n",
       "    </tr>\n",
       "  </tbody>\n",
       "</table>\n",
       "</div>"
      ],
      "text/plain": [
       "    Code      City County      Lat     Long     d_work  d_school    ok\n",
       "0  98004  Bellevue   King  47.6245 -122.201  14.904930  5.564004  True\n",
       "1  98005  Bellevue   King  47.6121 -122.164  14.366694  7.468130  True"
      ]
     },
     "execution_count": 15,
     "metadata": {},
     "output_type": "execute_result"
    }
   ],
   "source": [
    "potential.head(2)"
   ]
  },
  {
   "cell_type": "code",
   "execution_count": 16,
   "metadata": {},
   "outputs": [
    {
     "name": "stdout",
     "output_type": "stream",
     "text": [
      "[{'estimatedTotal': 1, 'resources': [{'__type': 'DistanceMatrix:http://schemas.microsoft.com/search/local/ws/rest/v1', 'destinations': [{'latitude': 45.5347, 'longitude': -122.6231}], 'errorMessage': 'Request completed.', 'origins': [{'latitude': 47.6044, 'longitude': -122.33456}], 'results': [{'destinationIndex': 0, 'originIndex': 0, 'totalWalkDuration': 0, 'travelDistance': 281.454, 'travelDuration': 161.217}]}]}]\n"
     ]
    }
   ],
   "source": [
    "import requests\n",
    "import json\n",
    "bingkey='AtIG73fsNaAkmjh6G6-RGJJ4TtGEFva81aF6bOHrfjWzA4HvmRL2OBITa_udr65s'\n",
    "start = '47.6044,-122.33456'\n",
    "end = '45.5347,-122.6231'\n",
    "driving = 'driving'\n",
    "public = 'transit'\n",
    "path='https://dev.virtualearth.net/REST/v1/Routes/DistanceMatrix?origins={}&destinations={}&travelMode={}&key={}'.format(start, end, driving, bingkey)\n",
    "r = requests.get(path)\n",
    "\n",
    "d=r.json()\n",
    "\n",
    "d\n",
    "\n",
    "print(d['resourceSets'])"
   ]
  },
  {
   "cell_type": "code",
   "execution_count": 17,
   "metadata": {},
   "outputs": [
    {
     "name": "stdout",
     "output_type": "stream",
     "text": [
      "travel time is 2.69 hours.\n"
     ]
    }
   ],
   "source": [
    "travel_time = (d['resourceSets'][0]['resources'][0]['results'][0]['travelDuration'])/60\n",
    "travel_time = float(\"{:.2f}\".format(travel_time))\n",
    "print ('travel time is {} hours.'.format(travel_time))"
   ]
  },
  {
   "cell_type": "code",
   "execution_count": 18,
   "metadata": {},
   "outputs": [],
   "source": [
    "W_lat = str(float(\"{:.5f}\".format(W_latitude)))\n",
    "W_long = str(float(\"{:.5f}\".format(W_longitude)))\n",
    "S_lat = str(float('{:.5f}'.format(S_latitude)))\n",
    "S_long = str(float('{:.5f}'.format(S_longitude)))\n",
    "\n",
    "bingkey='AtIG73fsNaAkmjh6G6-RGJJ4TtGEFva81aF6bOHrfjWzA4HvmRL2OBITa_udr65s'\n",
    "start = '47.6044,-122.33456'\n",
    "end = '45.5347,-122.6231'\n",
    "Work = '{},{}'.format(W_lat,W_long)\n",
    "School = '{},{}'.format(S_lat,S_long)\n",
    "Home = '47.52997,-122.20971'\n",
    "\n",
    "driving = 'driving'\n",
    "public = 'transit'\n",
    "path='https://dev.virtualearth.net/REST/v1/Routes/DistanceMatrix?origins={}&destinations={}&travelMode={}&key={}'.format(Home, School, driving, bingkey)\n",
    "r = requests.get(path)\n",
    "\n",
    "d=r.json()"
   ]
  },
  {
   "cell_type": "code",
   "execution_count": 19,
   "metadata": {},
   "outputs": [
    {
     "data": {
      "text/plain": [
       "23.483"
      ]
     },
     "execution_count": 19,
     "metadata": {},
     "output_type": "execute_result"
    }
   ],
   "source": [
    "Travel_time = d['resourceSets'][0]['resources'][0]['results'][0]['travelDuration']\n",
    "Travel_time"
   ]
  },
  {
   "cell_type": "code",
   "execution_count": 20,
   "metadata": {},
   "outputs": [
    {
     "name": "stdout",
     "output_type": "stream",
     "text": [
      "47.62448015,-122.20086735\n"
     ]
    },
    {
     "data": {
      "text/plain": [
       "23.983"
      ]
     },
     "execution_count": 20,
     "metadata": {},
     "output_type": "execute_result"
    }
   ],
   "source": [
    "location = '{},{}'.format(potential['Lat'].iloc[0],potential['Long'].iloc[0])\n",
    "print(location)\n",
    "\n",
    "path='https://dev.virtualearth.net/REST/v1/Routes/DistanceMatrix?origins={}&destinations={}&travelMode={}&key={}'.format(location, Work, driving, bingkey)\n",
    "r = requests.get(path)\n",
    "d=r.json()\n",
    "Travel_time1 = d['resourceSets'][0]['resources'][0]['results'][0]['travelDuration']\n",
    "Travel_time1"
   ]
  },
  {
   "cell_type": "code",
   "execution_count": 21,
   "metadata": {},
   "outputs": [
    {
     "data": {
      "text/plain": [
       "37"
      ]
     },
     "execution_count": 21,
     "metadata": {},
     "output_type": "execute_result"
    }
   ],
   "source": [
    "path='https://dev.virtualearth.net/REST/v1/Routes/DistanceMatrix?origins={}&destinations={}&travelMode={}&key={}'.format(location, School, public, bingkey)\n",
    "r = requests.get(path)\n",
    "d=r.json()\n",
    "Travel_time2 = d['resourceSets'][0]['resources'][0]['results'][0]['travelDuration']\n",
    "Travel_time2"
   ]
  },
  {
   "cell_type": "code",
   "execution_count": 22,
   "metadata": {},
   "outputs": [],
   "source": [
    "adding_times = pd.DataFrame()\n",
    "adding_times['T_work'] = ''\n",
    "adding_times['T_school']=''\n",
    "\n",
    "bingkey='AtIG73fsNaAkmjh6G6-RGJJ4TtGEFva81aF6bOHrfjWzA4HvmRL2OBITa_udr65s'\n",
    "Work = '{},{}'.format(W_lat,W_long)\n",
    "School = '{},{}'.format(S_lat,S_long)\n",
    "driving = 'driving'\n",
    "public = 'transit'\n",
    "\n",
    "for i in range(len(potential)):\n",
    "    location = '{},{}'.format(potential['Lat'].iloc[i],potential['Long'].iloc[i])\n",
    "    \n",
    "    path='https://dev.virtualearth.net/REST/v1/Routes/DistanceMatrix?origins={}&destinations={}&travelMode={}&key={}'.format(location, Work, driving, bingkey)\n",
    "    r = requests.get(path)\n",
    "    d=r.json()\n",
    "    Travel_time1 = d['resourceSets'][0]['resources'][0]['results'][0]['travelDuration']\n",
    "    \n",
    "    path='https://dev.virtualearth.net/REST/v1/Routes/DistanceMatrix?origins={}&destinations={}&travelMode={}&key={}'.format(location, School, public, bingkey)\n",
    "    r = requests.get(path)\n",
    "    d=r.json()\n",
    "    Travel_time2 = d['resourceSets'][0]['resources'][0]['results'][0]['travelDuration']\n",
    "    \n",
    "    adding_times = adding_times.append({'T_work': Travel_time1, 'T_school': Travel_time2}, ignore_index=True)\n",
    "\n",
    "\n",
    "potential = pd.merge(potential, adding_times, left_index = True, right_index = True, how = 'left')"
   ]
  },
  {
   "cell_type": "code",
   "execution_count": 23,
   "metadata": {},
   "outputs": [
    {
     "data": {
      "text/plain": [
       "(53, 10)"
      ]
     },
     "execution_count": 23,
     "metadata": {},
     "output_type": "execute_result"
    }
   ],
   "source": [
    "potential.shape"
   ]
  },
  {
   "cell_type": "code",
   "execution_count": 24,
   "metadata": {},
   "outputs": [],
   "source": [
    "potential = potential[(potential != 0).all(1)]\n",
    "potential = potential[(potential['T_work'] < 45)]\n",
    "potential = potential[(potential['T_school'] < 45)]\n",
    "potential = potential[(potential['T_school'] > 0)]\n",
    "potential = potential.reset_index()\n",
    "potential = potential.drop(['index'], axis = 1)"
   ]
  },
  {
   "cell_type": "code",
   "execution_count": 25,
   "metadata": {},
   "outputs": [
    {
     "name": "stdout",
     "output_type": "stream",
     "text": [
      "(25, 10)\n"
     ]
    },
    {
     "data": {
      "text/html": [
       "<div>\n",
       "<style scoped>\n",
       "    .dataframe tbody tr th:only-of-type {\n",
       "        vertical-align: middle;\n",
       "    }\n",
       "\n",
       "    .dataframe tbody tr th {\n",
       "        vertical-align: top;\n",
       "    }\n",
       "\n",
       "    .dataframe thead th {\n",
       "        text-align: right;\n",
       "    }\n",
       "</style>\n",
       "<table border=\"1\" class=\"dataframe\">\n",
       "  <thead>\n",
       "    <tr style=\"text-align: right;\">\n",
       "      <th></th>\n",
       "      <th>Code</th>\n",
       "      <th>City</th>\n",
       "      <th>County</th>\n",
       "      <th>Lat</th>\n",
       "      <th>Long</th>\n",
       "      <th>d_work</th>\n",
       "      <th>d_school</th>\n",
       "      <th>ok</th>\n",
       "      <th>T_work</th>\n",
       "      <th>T_school</th>\n",
       "    </tr>\n",
       "  </thead>\n",
       "  <tbody>\n",
       "    <tr>\n",
       "      <th>0</th>\n",
       "      <td>98004</td>\n",
       "      <td>Bellevue</td>\n",
       "      <td>King</td>\n",
       "      <td>47.6245</td>\n",
       "      <td>-122.201</td>\n",
       "      <td>14.904930</td>\n",
       "      <td>5.564004</td>\n",
       "      <td>True</td>\n",
       "      <td>23.983</td>\n",
       "      <td>37.0</td>\n",
       "    </tr>\n",
       "    <tr>\n",
       "      <th>1</th>\n",
       "      <td>98008</td>\n",
       "      <td>Bellevue</td>\n",
       "      <td>King</td>\n",
       "      <td>47.6344</td>\n",
       "      <td>-122.125</td>\n",
       "      <td>16.358800</td>\n",
       "      <td>8.764045</td>\n",
       "      <td>True</td>\n",
       "      <td>28.183</td>\n",
       "      <td>43.0</td>\n",
       "    </tr>\n",
       "    <tr>\n",
       "      <th>2</th>\n",
       "      <td>98009</td>\n",
       "      <td>Bellevue</td>\n",
       "      <td>King</td>\n",
       "      <td>47.6101</td>\n",
       "      <td>-122.186</td>\n",
       "      <td>14.016691</td>\n",
       "      <td>6.618294</td>\n",
       "      <td>True</td>\n",
       "      <td>21.233</td>\n",
       "      <td>32.0</td>\n",
       "    </tr>\n",
       "    <tr>\n",
       "      <th>3</th>\n",
       "      <td>98015</td>\n",
       "      <td>Bellevue</td>\n",
       "      <td>King</td>\n",
       "      <td>47.6608</td>\n",
       "      <td>-122.324</td>\n",
       "      <td>17.785628</td>\n",
       "      <td>0.722659</td>\n",
       "      <td>True</td>\n",
       "      <td>24.717</td>\n",
       "      <td>11.0</td>\n",
       "    </tr>\n",
       "    <tr>\n",
       "      <th>4</th>\n",
       "      <td>98028</td>\n",
       "      <td>Kenmore</td>\n",
       "      <td>King</td>\n",
       "      <td>47.7569</td>\n",
       "      <td>-122.242</td>\n",
       "      <td>3.492606</td>\n",
       "      <td>19.814766</td>\n",
       "      <td>True</td>\n",
       "      <td>35.250</td>\n",
       "      <td>37.0</td>\n",
       "    </tr>\n",
       "    <tr>\n",
       "      <th>5</th>\n",
       "      <td>98043</td>\n",
       "      <td>Mountlake Terrace</td>\n",
       "      <td>Snohomish</td>\n",
       "      <td>47.7949</td>\n",
       "      <td>-122.314</td>\n",
       "      <td>7.507113</td>\n",
       "      <td>10.843880</td>\n",
       "      <td>True</td>\n",
       "      <td>37.283</td>\n",
       "      <td>36.0</td>\n",
       "    </tr>\n",
       "    <tr>\n",
       "      <th>6</th>\n",
       "      <td>98056</td>\n",
       "      <td>Renton</td>\n",
       "      <td>King</td>\n",
       "      <td>47.5168</td>\n",
       "      <td>-122.206</td>\n",
       "      <td>15.337432</td>\n",
       "      <td>13.825459</td>\n",
       "      <td>True</td>\n",
       "      <td>14.233</td>\n",
       "      <td>43.0</td>\n",
       "    </tr>\n",
       "    <tr>\n",
       "      <th>7</th>\n",
       "      <td>98087</td>\n",
       "      <td>Lynnwood</td>\n",
       "      <td>Snohomish</td>\n",
       "      <td>47.8556</td>\n",
       "      <td>-122.27</td>\n",
       "      <td>20.057007</td>\n",
       "      <td>3.057090</td>\n",
       "      <td>True</td>\n",
       "      <td>40.417</td>\n",
       "      <td>43.0</td>\n",
       "    </tr>\n",
       "    <tr>\n",
       "      <th>8</th>\n",
       "      <td>98089</td>\n",
       "      <td>Kent</td>\n",
       "      <td>King</td>\n",
       "      <td>47.3915</td>\n",
       "      <td>-122.294</td>\n",
       "      <td>19.201249</td>\n",
       "      <td>1.974525</td>\n",
       "      <td>True</td>\n",
       "      <td>11.333</td>\n",
       "      <td>42.0</td>\n",
       "    </tr>\n",
       "    <tr>\n",
       "      <th>9</th>\n",
       "      <td>98102</td>\n",
       "      <td>Seattle</td>\n",
       "      <td>King</td>\n",
       "      <td>47.6216</td>\n",
       "      <td>-122.321</td>\n",
       "      <td>17.059902</td>\n",
       "      <td>2.916639</td>\n",
       "      <td>True</td>\n",
       "      <td>25.567</td>\n",
       "      <td>18.0</td>\n",
       "    </tr>\n",
       "    <tr>\n",
       "      <th>10</th>\n",
       "      <td>98103</td>\n",
       "      <td>Seattle</td>\n",
       "      <td>King</td>\n",
       "      <td>47.6737</td>\n",
       "      <td>-122.344</td>\n",
       "      <td>15.049445</td>\n",
       "      <td>3.316100</td>\n",
       "      <td>True</td>\n",
       "      <td>29.867</td>\n",
       "      <td>27.0</td>\n",
       "    </tr>\n",
       "    <tr>\n",
       "      <th>11</th>\n",
       "      <td>98104</td>\n",
       "      <td>Seattle</td>\n",
       "      <td>King</td>\n",
       "      <td>47.6007</td>\n",
       "      <td>-122.331</td>\n",
       "      <td>14.780084</td>\n",
       "      <td>2.916016</td>\n",
       "      <td>True</td>\n",
       "      <td>23.917</td>\n",
       "      <td>22.0</td>\n",
       "    </tr>\n",
       "    <tr>\n",
       "      <th>12</th>\n",
       "      <td>98105</td>\n",
       "      <td>Seattle</td>\n",
       "      <td>King</td>\n",
       "      <td>47.6629</td>\n",
       "      <td>-122.321</td>\n",
       "      <td>21.741630</td>\n",
       "      <td>4.439680</td>\n",
       "      <td>True</td>\n",
       "      <td>25.767</td>\n",
       "      <td>10.0</td>\n",
       "    </tr>\n",
       "    <tr>\n",
       "      <th>13</th>\n",
       "      <td>98108</td>\n",
       "      <td>Seattle</td>\n",
       "      <td>King</td>\n",
       "      <td>47.5676</td>\n",
       "      <td>-122.322</td>\n",
       "      <td>14.239623</td>\n",
       "      <td>3.689268</td>\n",
       "      <td>True</td>\n",
       "      <td>20.617</td>\n",
       "      <td>37.0</td>\n",
       "    </tr>\n",
       "    <tr>\n",
       "      <th>14</th>\n",
       "      <td>98109</td>\n",
       "      <td>Seattle</td>\n",
       "      <td>King</td>\n",
       "      <td>47.6331</td>\n",
       "      <td>-122.349</td>\n",
       "      <td>12.471191</td>\n",
       "      <td>4.987681</td>\n",
       "      <td>True</td>\n",
       "      <td>28.317</td>\n",
       "      <td>30.0</td>\n",
       "    </tr>\n",
       "    <tr>\n",
       "      <th>15</th>\n",
       "      <td>98112</td>\n",
       "      <td>Seattle</td>\n",
       "      <td>King</td>\n",
       "      <td>47.6267</td>\n",
       "      <td>-122.307</td>\n",
       "      <td>14.272929</td>\n",
       "      <td>3.701083</td>\n",
       "      <td>True</td>\n",
       "      <td>29.917</td>\n",
       "      <td>20.0</td>\n",
       "    </tr>\n",
       "    <tr>\n",
       "      <th>16</th>\n",
       "      <td>98113</td>\n",
       "      <td>Seattle</td>\n",
       "      <td>King</td>\n",
       "      <td>47.6894</td>\n",
       "      <td>-122.355</td>\n",
       "      <td>14.385920</td>\n",
       "      <td>3.625163</td>\n",
       "      <td>True</td>\n",
       "      <td>31.133</td>\n",
       "      <td>20.0</td>\n",
       "    </tr>\n",
       "    <tr>\n",
       "      <th>17</th>\n",
       "      <td>98115</td>\n",
       "      <td>Seattle</td>\n",
       "      <td>King</td>\n",
       "      <td>47.6849</td>\n",
       "      <td>-122.299</td>\n",
       "      <td>14.196146</td>\n",
       "      <td>3.829709</td>\n",
       "      <td>True</td>\n",
       "      <td>31.750</td>\n",
       "      <td>16.0</td>\n",
       "    </tr>\n",
       "    <tr>\n",
       "      <th>18</th>\n",
       "      <td>98119</td>\n",
       "      <td>Seattle</td>\n",
       "      <td>King</td>\n",
       "      <td>47.6409</td>\n",
       "      <td>-122.367</td>\n",
       "      <td>14.677836</td>\n",
       "      <td>3.467694</td>\n",
       "      <td>True</td>\n",
       "      <td>32.750</td>\n",
       "      <td>38.0</td>\n",
       "    </tr>\n",
       "    <tr>\n",
       "      <th>19</th>\n",
       "      <td>98121</td>\n",
       "      <td>Seattle</td>\n",
       "      <td>King</td>\n",
       "      <td>47.6155</td>\n",
       "      <td>-122.345</td>\n",
       "      <td>3.270452</td>\n",
       "      <td>14.455328</td>\n",
       "      <td>True</td>\n",
       "      <td>24.517</td>\n",
       "      <td>26.0</td>\n",
       "    </tr>\n",
       "    <tr>\n",
       "      <th>20</th>\n",
       "      <td>98122</td>\n",
       "      <td>Seattle</td>\n",
       "      <td>King</td>\n",
       "      <td>47.616</td>\n",
       "      <td>-122.323</td>\n",
       "      <td>17.106404</td>\n",
       "      <td>0.317438</td>\n",
       "      <td>True</td>\n",
       "      <td>24.433</td>\n",
       "      <td>21.0</td>\n",
       "    </tr>\n",
       "    <tr>\n",
       "      <th>21</th>\n",
       "      <td>98125</td>\n",
       "      <td>Seattle</td>\n",
       "      <td>King</td>\n",
       "      <td>47.7215</td>\n",
       "      <td>-122.305</td>\n",
       "      <td>18.088082</td>\n",
       "      <td>4.157981</td>\n",
       "      <td>True</td>\n",
       "      <td>33.483</td>\n",
       "      <td>33.0</td>\n",
       "    </tr>\n",
       "    <tr>\n",
       "      <th>22</th>\n",
       "      <td>98175</td>\n",
       "      <td>Seattle</td>\n",
       "      <td>King</td>\n",
       "      <td>47.7099</td>\n",
       "      <td>-122.319</td>\n",
       "      <td>17.514647</td>\n",
       "      <td>13.109576</td>\n",
       "      <td>True</td>\n",
       "      <td>32.000</td>\n",
       "      <td>27.0</td>\n",
       "    </tr>\n",
       "    <tr>\n",
       "      <th>23</th>\n",
       "      <td>98177</td>\n",
       "      <td>Seattle</td>\n",
       "      <td>King</td>\n",
       "      <td>47.714</td>\n",
       "      <td>-122.367</td>\n",
       "      <td>16.327119</td>\n",
       "      <td>20.029685</td>\n",
       "      <td>True</td>\n",
       "      <td>36.833</td>\n",
       "      <td>37.0</td>\n",
       "    </tr>\n",
       "    <tr>\n",
       "      <th>24</th>\n",
       "      <td>98181</td>\n",
       "      <td>Seattle</td>\n",
       "      <td>King</td>\n",
       "      <td>47.6111</td>\n",
       "      <td>-122.339</td>\n",
       "      <td>18.839318</td>\n",
       "      <td>16.622335</td>\n",
       "      <td>True</td>\n",
       "      <td>24.283</td>\n",
       "      <td>20.0</td>\n",
       "    </tr>\n",
       "  </tbody>\n",
       "</table>\n",
       "</div>"
      ],
      "text/plain": [
       "     Code               City     County      Lat     Long     d_work  \\\n",
       "0   98004           Bellevue       King  47.6245 -122.201  14.904930   \n",
       "1   98008           Bellevue       King  47.6344 -122.125  16.358800   \n",
       "2   98009           Bellevue       King  47.6101 -122.186  14.016691   \n",
       "3   98015           Bellevue       King  47.6608 -122.324  17.785628   \n",
       "4   98028            Kenmore       King  47.7569 -122.242   3.492606   \n",
       "5   98043  Mountlake Terrace  Snohomish  47.7949 -122.314   7.507113   \n",
       "6   98056             Renton       King  47.5168 -122.206  15.337432   \n",
       "7   98087           Lynnwood  Snohomish  47.8556  -122.27  20.057007   \n",
       "8   98089               Kent       King  47.3915 -122.294  19.201249   \n",
       "9   98102            Seattle       King  47.6216 -122.321  17.059902   \n",
       "10  98103            Seattle       King  47.6737 -122.344  15.049445   \n",
       "11  98104            Seattle       King  47.6007 -122.331  14.780084   \n",
       "12  98105            Seattle       King  47.6629 -122.321  21.741630   \n",
       "13  98108            Seattle       King  47.5676 -122.322  14.239623   \n",
       "14  98109            Seattle       King  47.6331 -122.349  12.471191   \n",
       "15  98112            Seattle       King  47.6267 -122.307  14.272929   \n",
       "16  98113            Seattle       King  47.6894 -122.355  14.385920   \n",
       "17  98115            Seattle       King  47.6849 -122.299  14.196146   \n",
       "18  98119            Seattle       King  47.6409 -122.367  14.677836   \n",
       "19  98121            Seattle       King  47.6155 -122.345   3.270452   \n",
       "20  98122            Seattle       King   47.616 -122.323  17.106404   \n",
       "21  98125            Seattle       King  47.7215 -122.305  18.088082   \n",
       "22  98175            Seattle       King  47.7099 -122.319  17.514647   \n",
       "23  98177            Seattle       King   47.714 -122.367  16.327119   \n",
       "24  98181            Seattle       King  47.6111 -122.339  18.839318   \n",
       "\n",
       "     d_school    ok  T_work  T_school  \n",
       "0    5.564004  True  23.983      37.0  \n",
       "1    8.764045  True  28.183      43.0  \n",
       "2    6.618294  True  21.233      32.0  \n",
       "3    0.722659  True  24.717      11.0  \n",
       "4   19.814766  True  35.250      37.0  \n",
       "5   10.843880  True  37.283      36.0  \n",
       "6   13.825459  True  14.233      43.0  \n",
       "7    3.057090  True  40.417      43.0  \n",
       "8    1.974525  True  11.333      42.0  \n",
       "9    2.916639  True  25.567      18.0  \n",
       "10   3.316100  True  29.867      27.0  \n",
       "11   2.916016  True  23.917      22.0  \n",
       "12   4.439680  True  25.767      10.0  \n",
       "13   3.689268  True  20.617      37.0  \n",
       "14   4.987681  True  28.317      30.0  \n",
       "15   3.701083  True  29.917      20.0  \n",
       "16   3.625163  True  31.133      20.0  \n",
       "17   3.829709  True  31.750      16.0  \n",
       "18   3.467694  True  32.750      38.0  \n",
       "19  14.455328  True  24.517      26.0  \n",
       "20   0.317438  True  24.433      21.0  \n",
       "21   4.157981  True  33.483      33.0  \n",
       "22  13.109576  True  32.000      27.0  \n",
       "23  20.029685  True  36.833      37.0  \n",
       "24  16.622335  True  24.283      20.0  "
      ]
     },
     "execution_count": 25,
     "metadata": {},
     "output_type": "execute_result"
    }
   ],
   "source": [
    "print(potential.shape)\n",
    "potential"
   ]
  },
  {
   "cell_type": "markdown",
   "metadata": {},
   "source": [
    "### Compare with the model"
   ]
  },
  {
   "cell_type": "code",
   "execution_count": 26,
   "metadata": {},
   "outputs": [
    {
     "name": "stdout",
     "output_type": "stream",
     "text": [
      "Your credentails:\n",
      "CLIENT_ID: FD35ZLLUHS5JQBQBK0FDBZXI2ADUFCR02IOU51JMUXIUHDNL\n",
      "CLIENT_SECRET:5WMJDA1OQP4XS0Q1NT5L0MBD32ELTSL32505WWPTTC53GV5O\n"
     ]
    }
   ],
   "source": [
    "CLIENT_ID = 'FD35ZLLUHS5JQBQBK0FDBZXI2ADUFCR02IOU51JMUXIUHDNL'\n",
    "CLIENT_SECRET = '5WMJDA1OQP4XS0Q1NT5L0MBD32ELTSL32505WWPTTC53GV5O'\n",
    "VERSION = '20200101'\n",
    "LIMIT = 100\n",
    "print('Your credentails:')\n",
    "print('CLIENT_ID: ' + CLIENT_ID)\n",
    "print('CLIENT_SECRET:' + CLIENT_SECRET)\n",
    "\n",
    "url1 = 'https://api.foursquare.com/v2/venues/explore?client_id={}&client_secret={}&ll={},{}&v={}&limit={}'.format(CLIENT_ID, CLIENT_SECRET, latitude, longitude, VERSION, LIMIT)\n",
    "results1 = requests.get(url1).json()\n",
    "\n",
    "# assign relevant part of JSON to venues\n",
    "venues = results1['response']['groups'][0]['items']\n",
    "nearby_venues = pd.json_normalize(venues)\n",
    "\n",
    "# filter columns\n",
    "filtered_columns = ['venue.name', 'venue.categories', 'venue.location.postalCode','venue.location.lat', 'venue.location.lng']\n",
    "dataframe_filtered = nearby_venues.loc[:, filtered_columns]"
   ]
  },
  {
   "cell_type": "code",
   "execution_count": 27,
   "metadata": {},
   "outputs": [
    {
     "name": "stdout",
     "output_type": "stream",
     "text": [
      "Your credentails:\n",
      "CLIENT_ID: FD35ZLLUHS5JQBQBK0FDBZXI2ADUFCR02IOU51JMUXIUHDNL\n",
      "CLIENT_SECRET:5WMJDA1OQP4XS0Q1NT5L0MBD32ELTSL32505WWPTTC53GV5O\n"
     ]
    }
   ],
   "source": [
    "CLIENT_ID = 'FD35ZLLUHS5JQBQBK0FDBZXI2ADUFCR02IOU51JMUXIUHDNL'\n",
    "CLIENT_SECRET = '5WMJDA1OQP4XS0Q1NT5L0MBD32ELTSL32505WWPTTC53GV5O'\n",
    "VERSION = '20200101'\n",
    "LIMIT = 100\n",
    "print('Your credentails:')\n",
    "print('CLIENT_ID: ' + CLIENT_ID)\n",
    "print('CLIENT_SECRET:' + CLIENT_SECRET)\n",
    "\n",
    "\n",
    "latitude = potential['Lat'].iloc[0]\n",
    "longitude = potential['Long'].iloc[0]\n",
    "url1 = 'https://api.foursquare.com/v2/venues/explore?client_id={}&client_secret={}&ll={},{}&v={}&limit={}'.format(CLIENT_ID, CLIENT_SECRET, latitude, longitude, VERSION, LIMIT)\n",
    "results2 = requests.get(url1).json()\n"
   ]
  },
  {
   "cell_type": "code",
   "execution_count": 28,
   "metadata": {},
   "outputs": [
    {
     "name": "stdout",
     "output_type": "stream",
     "text": [
      "Steakhouse\n"
     ]
    }
   ],
   "source": [
    "venues = results2['response']['groups'][0]['items']\n",
    "new_venues = pd.json_normalize(venues)\n",
    "filters = ['venue.name', 'venue.categories']\n",
    "new_venues = new_venues.loc[:, filters]\n",
    "#### testing\n",
    "new_venues['Code']=potential['Code'].iloc[0]\n",
    "###\n",
    "x = str(new_venues.iloc[45]['venue.categories'][0]['name'])\n",
    "print(x)"
   ]
  },
  {
   "cell_type": "code",
   "execution_count": 29,
   "metadata": {},
   "outputs": [
    {
     "data": {
      "text/plain": [
       "(100, 4)"
      ]
     },
     "execution_count": 29,
     "metadata": {},
     "output_type": "execute_result"
    }
   ],
   "source": [
    "data_cashe=pd.DataFrame()\n",
    "data_cashe['type']=''\n",
    "\n",
    "for i in range(len(new_venues)):\n",
    "    data = str(new_venues.iloc[i]['venue.categories'][0]['name'])\n",
    "    data_cashe = data_cashe.append({'type':data}, ignore_index=True)\n",
    "new_venues = pd.merge(new_venues, data_cashe, left_index = True, right_index =True, how = 'left')\n",
    "new_venues.shape"
   ]
  },
  {
   "cell_type": "code",
   "execution_count": 30,
   "metadata": {},
   "outputs": [],
   "source": [
    "newer_venues =  new_venues.groupby(['type']).count()\n",
    "newer_venues['Code'] = new_venues['Code'].iloc[0]\n",
    "\n",
    "\n",
    "newer_venues = newer_venues.sort_values(by='venue.name', axis=0,ascending=False)\n",
    "\n",
    "\n",
    "newer_venues=newer_venues.reset_index()"
   ]
  },
  {
   "cell_type": "markdown",
   "metadata": {},
   "source": [
    "### Limit the potential towns to ones that match our current town"
   ]
  },
  {
   "cell_type": "code",
   "execution_count": 31,
   "metadata": {},
   "outputs": [],
   "source": [
    "fatou = pd.DataFrame()\n",
    "#venues.transpose()\n",
    "list1 = ('Coffee Shop', 'Mexican Restaurant', 'Grocery Store', 'Brewery', 'Pet Store', 'Café', 'Bakery', 'Supermarket', 'Trail', 'Park')\n",
    "for i in range(len(newer_venues)):\n",
    "    if newer_venues['type'].iloc[i] in list1:\n",
    "        fatou = fatou.append(newer_venues.iloc[i])"
   ]
  },
  {
   "cell_type": "code",
   "execution_count": null,
   "metadata": {},
   "outputs": [],
   "source": [
    "CLIENT_ID = 'FD35ZLLUHS5JQBQBK0FDBZXI2ADUFCR02IOU51JMUXIUHDNL'\n",
    "CLIENT_SECRET = '5WMJDA1OQP4XS0Q1NT5L0MBD32ELTSL32505WWPTTC53GV5O'\n",
    "VERSION = '20200101'\n",
    "LIMIT = 100\n",
    "filters = ['venue.name', 'venue.categories']\n",
    "fatou = pd.DataFrame()\n",
    "list1 = ('Coffee Shop', 'Mexican Restaurant', 'Grocery Store', 'Brewery', 'Pet Store', 'Café', 'Bakery', 'Supermarket', 'Trail', 'Park')\n",
    "\n",
    "\n",
    "for i in range(len(potential)):\n",
    "    latitude = potential['Lat'].iloc[i]\n",
    "    longitude = potential['Long'].iloc[i]\n",
    "    url = 'https://api.foursquare.com/v2/venues/explore?client_id={}&client_secret={}&ll={},{}&v={}&limit={}'.format(CLIENT_ID, CLIENT_SECRET, latitude, longitude, VERSION, LIMIT)\n",
    "    results = requests.get(url).json()\n",
    "    \n",
    "    venues = results2['response']['groups'][0]['items']\n",
    "    new_venues = pd.json_normalize(venues)\n",
    "    new_venues = new_venues.loc[:, filters]\n",
    "    #### insert there\n",
    "    new_venues['Code']=potential['Code'].iloc[i]\n",
    "\n",
    "    data_cashe=pd.DataFrame()\n",
    "    data_cashe['type']=''\n",
    "    \n",
    "    for i in range(len(new_venues)):\n",
    "        data = str(new_venues.iloc[i]['venue.categories'][0]['name'])\n",
    "        data_cashe = data_cashe.append({'type':data}, ignore_index=True)\n",
    "           \n",
    "    new_venues = pd.merge(new_venues, data_cashe, left_index = True, right_index =True, how = 'left')\n",
    "    newer_venues =  new_venues.groupby(['type']).count()\n",
    "    newer_venues['Code'] = new_venues['Code'].iloc[0]\n",
    "    newer_venues=newer_venues.reset_index()\n",
    "    \n",
    "    for i in range(len(newer_venues)):\n",
    "        \n",
    "        if newer_venues['type'].iloc[i] in list1:\n",
    "            fatou = fatou.append(newer_venues.iloc[i])\n",
    "\n",
    "fatou.sort_values(by='venue.name', ascending = False)\n",
    "\n",
    "fatou = fatou.merge(potential, left_on='Code',right_on='Code' )\n",
    "fatou"
   ]
  },
  {
   "cell_type": "markdown",
   "metadata": {},
   "source": [
    "### Make the map of the potential sites!"
   ]
  },
  {
   "cell_type": "code",
   "execution_count": null,
   "metadata": {},
   "outputs": [],
   "source": [
    "latitude = potential['Lat'].mean()\n",
    "longitude = potential['Long'].mean()\n",
    "Sea_Map= folium.Map(location=[latitude, longitude], zoom_start=10)\n",
    "x = fatou\n",
    "\n",
    "\n",
    "for lat, long, City, Code, travel1, travel2 in zip(x['Lat'], x['Long'], x['City'], x['Code'], x['T_work'], x['T_school']):\n",
    " label = '{}, {} minutes to work, {} Minutes to school'.format(City, travel1, travel2)\n",
    " label = folium.Popup(label, parse_html=True)\n",
    " folium.CircleMarker(\n",
    " [lat, long],\n",
    " radius=5,\n",
    " popup=label,\n",
    " color='green',\n",
    " fill=True,\n",
    " fill_color='green',\n",
    " parse_html=False).add_to(Sea_Map)"
   ]
  },
  {
   "cell_type": "code",
   "execution_count": null,
   "metadata": {},
   "outputs": [],
   "source": [
    "Sea_Map"
   ]
  },
  {
   "cell_type": "code",
   "execution_count": null,
   "metadata": {},
   "outputs": [],
   "source": []
  }
 ],
 "metadata": {
  "kernelspec": {
   "display_name": "Python",
   "language": "python",
   "name": "conda-env-python-py"
  },
  "language_info": {
   "codemirror_mode": {
    "name": "ipython",
    "version": 3
   },
   "file_extension": ".py",
   "mimetype": "text/x-python",
   "name": "python",
   "nbconvert_exporter": "python",
   "pygments_lexer": "ipython3",
   "version": "3.6.10"
  }
 },
 "nbformat": 4,
 "nbformat_minor": 4
}
