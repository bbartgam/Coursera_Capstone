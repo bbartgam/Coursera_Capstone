{
 "cells": [
  {
   "cell_type": "markdown",
   "metadata": {},
   "source": [
    "### Introduction: Business Problem \n",
    "\n",
    "This project we will determine the **perfect neighborhood for my family’s next apartment**. As I am a biased party the report will be targeted at my partner and dog, and their interest in moving to area’s that are remarkably similar to our current neighborhood. \n",
    "\n",
    "We currently love our community but hate our commute, as such this project will identify several Western Washington neighborhoods that have the same distribution of amenities **and** are closer to our respective workplaces. \n",
    "\n",
    "No one likes a long commute and we have decided that we no longer need to spend hours in the car to support our lifestyle. **With the power of Foursquare, Pandas and Folium** I will create a set of concise images that will guide our apartment hunt!"
   ]
  },
  {
   "cell_type": "markdown",
   "metadata": {},
   "source": [
    "### Data \n",
    "\n",
    "Fist I will need to define the characteristics of my current neighborhood using Foursquare\n",
    "- List of the top 20 activities\n",
    "- Find the average distance between a few key sites (dog parks)\n",
    "- Fit this data to a polynomial model for later comparison\n",
    "- Define a working drive time threshold from our respective worksites\n",
    "\n",
    "Second, I will need to find similar neighborhoods and the Bing.com/maps api to calculate drive time\n",
    "- Foursquare will be leveraged to categorizes all area codes in our search area\n",
    "- Data will be tested against the current neighborhood model  using r^2\n",
    "- I will use the Bing Maps api to calculate drive times of the top 20 zip codes ranked by r^2\n",
    "\n",
    "Lastly, I will display the data in a folium map\n",
    "- Prospective neighborhoods will be grouped using scikit learn K-means\n",
    "- Data will be plotted in a visual format using Folium\n",
    "- Key information will be available as a popup summary\n",
    "\n",
    "This information will empower my partner to identify the perfect place to move."
   ]
  },
  {
   "cell_type": "code",
   "execution_count": null,
   "metadata": {},
   "outputs": [],
   "source": []
  }
 ],
 "metadata": {
  "kernelspec": {
   "display_name": "Python",
   "language": "python",
   "name": "conda-env-python-py"
  },
  "language_info": {
   "codemirror_mode": {
    "name": "ipython",
    "version": 3
   },
   "file_extension": ".py",
   "mimetype": "text/x-python",
   "name": "python",
   "nbconvert_exporter": "python",
   "pygments_lexer": "ipython3",
   "version": "3.6.10"
  }
 },
 "nbformat": 4,
 "nbformat_minor": 4
}
